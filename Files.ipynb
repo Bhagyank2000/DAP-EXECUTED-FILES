{
 "cells": [
  {
   "cell_type": "code",
   "execution_count": 1,
   "id": "70706d82",
   "metadata": {},
   "outputs": [
    {
     "name": "stdout",
     "output_type": "stream",
     "text": [
      "Python is really a great language, isn't it?\n"
     ]
    }
   ],
   "source": [
    "print (\"Python is really a great language,\", \"isn't it?\")"
   ]
  },
  {
   "cell_type": "code",
   "execution_count": 2,
   "id": "be356047",
   "metadata": {},
   "outputs": [
    {
     "name": "stdout",
     "output_type": "stream",
     "text": [
      "Enter your input: 5\n",
      "Received input is :  5\n"
     ]
    }
   ],
   "source": [
    "str = input(\"Enter your input: \")\n",
    "print (\"Received input is : \", str)"
   ]
  },
  {
   "cell_type": "code",
   "execution_count": 3,
   "id": "4800f68f",
   "metadata": {},
   "outputs": [
    {
     "name": "stdout",
     "output_type": "stream",
     "text": [
      "Name of the file:  foo.txt\n"
     ]
    }
   ],
   "source": [
    "\n",
    "# Open a file\n",
    "fo = open(\"foo.txt\", \"wb\")\n",
    "print (\"Name of the file: \", fo.name)\n",
    "\n",
    "# Close opend file\n",
    "fo.close()"
   ]
  },
  {
   "cell_type": "code",
   "execution_count": 4,
   "id": "ee78f4df",
   "metadata": {},
   "outputs": [
    {
     "name": "stdout",
     "output_type": "stream",
     "text": [
      "See you soon!\n"
     ]
    }
   ],
   "source": [
    "f = open(\"demofile2.txt\", \"a\")\n",
    "f.write(\"See you soon!\")\n",
    "f.close()\n",
    "\n",
    "#open and read the file after the appending:\n",
    "f = open(\"demofile2.txt\", \"r\")\n",
    "print(f.read()) "
   ]
  },
  {
   "cell_type": "code",
   "execution_count": 5,
   "id": "b7a5909b",
   "metadata": {},
   "outputs": [
    {
     "name": "stdout",
     "output_type": "stream",
     "text": [
      "Read String is :  \n"
     ]
    }
   ],
   "source": [
    "# Open a file\n",
    "fo = open(\"foo.txt\", \"r+\")\n",
    "str = fo.read(10);\n",
    "print (\"Read String is : \", str)\n",
    "# Close opend file\n",
    "fo.close()"
   ]
  },
  {
   "cell_type": "code",
   "execution_count": 14,
   "id": "1b581901",
   "metadata": {},
   "outputs": [
    {
     "name": "stdout",
     "output_type": "stream",
     "text": [
      "Name of the file:  foo.txt\n",
      "Closed or not :  False\n",
      "Opening mode :  wb\n"
     ]
    }
   ],
   "source": [
    "fo = open(\"foo.txt\", \"wb\")\n",
    "print (\"Name of the file: \", fo.name)\n",
    "print (\"Closed or not : \", fo.closed)\n",
    "print (\"Opening mode : \", fo.mode)\n"
   ]
  },
  {
   "cell_type": "code",
   "execution_count": 19,
   "id": "fe626966",
   "metadata": {},
   "outputs": [
    {
     "name": "stdout",
     "output_type": "stream",
     "text": [
      "Read String is :  See you so\n",
      "Current file position :  10\n",
      "Again read String is :  ee you soo\n"
     ]
    }
   ],
   "source": [
    "# Open a file\n",
    "fo = open(\"demofile2.txt\", \"r+\")\n",
    "str = fo.read(10)\n",
    "print (\"Read String is : \", str)\n",
    "\n",
    "# Check current position\n",
    "position = fo.tell()\n",
    "print (\"Current file position : \", position)\n",
    "\n",
    "# Reposition pointer at the beginning once again\n",
    "position = fo.seek(1, 0);\n",
    "str = fo.read(10)\n",
    "print (\"Again read String is : \", str)\n",
    "# Close opened file\n",
    "fo.close()"
   ]
  },
  {
   "cell_type": "code",
   "execution_count": 24,
   "id": "e6685d3f",
   "metadata": {},
   "outputs": [],
   "source": [
    "import os\n",
    "\n",
    "# Create a directory \"test\"\n",
    "os.mkdir(\"test\")"
   ]
  },
  {
   "cell_type": "code",
   "execution_count": null,
   "id": "9ae156cf",
   "metadata": {},
   "outputs": [],
   "source": [
    "import os\n",
    "\n",
    "# This would give location of the current directory\n",
    "os.getcwd()\n",
    "\n",
    "\n",
    "# This would  remove \"/tmp/test\"  directory.\n",
    "os.rmdir( \"/tmp/test\"  )"
   ]
  }
 ],
 "metadata": {
  "kernelspec": {
   "display_name": "Python 3",
   "language": "python",
   "name": "python3"
  },
  "language_info": {
   "codemirror_mode": {
    "name": "ipython",
    "version": 3
   },
   "file_extension": ".py",
   "mimetype": "text/x-python",
   "name": "python",
   "nbconvert_exporter": "python",
   "pygments_lexer": "ipython3",
   "version": "3.8.8"
  }
 },
 "nbformat": 4,
 "nbformat_minor": 5
}
