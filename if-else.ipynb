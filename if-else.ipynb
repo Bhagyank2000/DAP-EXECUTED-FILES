{
 "cells": [
  {
   "cell_type": "code",
   "execution_count": 1,
   "id": "67a198ab",
   "metadata": {},
   "outputs": [
    {
     "name": "stdout",
     "output_type": "stream",
     "text": [
      "enter the number?5\n",
      "bye\n"
     ]
    }
   ],
   "source": [
    "    num = int(input(\"enter the number?\"))  \n",
    "    if num%2 == 0:  \n",
    "        print(\"Number is even\")\n",
    "    print(\"bye\")\n",
    "        "
   ]
  },
  {
   "cell_type": "code",
   "execution_count": 2,
   "id": "e81e7abc",
   "metadata": {},
   "outputs": [
    {
     "name": "stdout",
     "output_type": "stream",
     "text": [
      "Enter a- 2\n",
      "Enter b- 4\n",
      "Enter c- 6\n",
      "c is largest\n"
     ]
    }
   ],
   "source": [
    "    a = int(input(\"Enter a- \"));  \n",
    "    b = int(input(\"Enter b- \"));  \n",
    "    c = int(input(\"Enter c- \"));  \n",
    "    if a>b and a>c:  \n",
    "        print(\"a is largest\");  \n",
    "    if b>a and b>c:  \n",
    "        print(\"b is largest\");  \n",
    "    if c>a and c>b:  \n",
    "        print(\"c is largest\");  "
   ]
  },
  {
   "cell_type": "code",
   "execution_count": 3,
   "id": "1c9aa697",
   "metadata": {},
   "outputs": [
    {
     "name": "stdout",
     "output_type": "stream",
     "text": [
      "Enter your age? 89\n",
      "You are eligible to vote !!\n"
     ]
    }
   ],
   "source": [
    "    age = int (input(\"Enter your age? \"))  \n",
    "    if age>=18:  \n",
    "        print(\"You are eligible to vote !!\");  \n",
    "    else:  \n",
    "        print(\"Sorry! you have to wait !!\");  "
   ]
  },
  {
   "cell_type": "code",
   "execution_count": 4,
   "id": "0a328395",
   "metadata": {},
   "outputs": [
    {
     "name": "stdout",
     "output_type": "stream",
     "text": [
      "enter the number?4\n",
      "Number is even...\n"
     ]
    }
   ],
   "source": [
    "    num = int(input(\"enter the number?\"))  \n",
    "    if num%2 == 0:  \n",
    "        print(\"Number is even...\")  \n",
    "    else:  \n",
    "        print(\"Number is odd...\")  "
   ]
  },
  {
   "cell_type": "code",
   "execution_count": 5,
   "id": "11628e55",
   "metadata": {},
   "outputs": [
    {
     "name": "stdout",
     "output_type": "stream",
     "text": [
      "Enter the number?5\n",
      "number is not equal to 10, 50 or 100\n"
     ]
    }
   ],
   "source": [
    "    number = int(input(\"Enter the number?\"))  \n",
    "    if number==10:  \n",
    "        print(\"number is equals to 10\")  \n",
    "    elif number==50:  \n",
    "        print(\"number is equal to 50\");  \n",
    "    elif number==100:  \n",
    "        print(\"number is equal to 100\");  \n",
    "    else:  \n",
    "        print(\"number is not equal to 10, 50 or 100\");  "
   ]
  },
  {
   "cell_type": "code",
   "execution_count": 6,
   "id": "6b02cacc",
   "metadata": {},
   "outputs": [
    {
     "name": "stdout",
     "output_type": "stream",
     "text": [
      "Enter the number?5\n",
      "number is not equal to 10, 50 or 100\n"
     ]
    }
   ],
   "source": [
    "number = input(\"Enter the number?\")\n",
    "if number==10:  \n",
    "    print(\"number is equals to 10\")  \n",
    "elif number==50:  \n",
    "    print(\"number is equal to 50\");  \n",
    "elif number==100:  \n",
    "    print(\"number is equal to 100\");  \n",
    "else:  \n",
    "    print(\"number is not equal to 10, 50 or 100\");  "
   ]
  },
  {
   "cell_type": "code",
   "execution_count": 7,
   "id": "b6a59f62",
   "metadata": {},
   "outputs": [
    {
     "name": "stdout",
     "output_type": "stream",
     "text": [
      "Enter the marks? 5\n",
      "Sorry you are fail ?\n"
     ]
    }
   ],
   "source": [
    "    marks = int(input(\"Enter the marks? \"))  \n",
    "    if marks > 85 and marks <= 100:  \n",
    "       print(\"Congrats ! you scored grade A ...\")  \n",
    "    elif marks > 60 and marks <= 85:  \n",
    "       print(\"You scored grade B + ...\")  \n",
    "    elif marks > 40 and marks <= 60:  \n",
    "       print(\"You scored grade B ...\")  \n",
    "    elif (marks > 30 and marks <= 40):  \n",
    "       print(\"You scored grade C ...\")  \n",
    "    else:  \n",
    "       print(\"Sorry you are fail ?\")  "
   ]
  },
  {
   "cell_type": "code",
   "execution_count": null,
   "id": "39540fdf",
   "metadata": {},
   "outputs": [],
   "source": []
  }
 ],
 "metadata": {
  "kernelspec": {
   "display_name": "Python 3",
   "language": "python",
   "name": "python3"
  },
  "language_info": {
   "codemirror_mode": {
    "name": "ipython",
    "version": 3
   },
   "file_extension": ".py",
   "mimetype": "text/x-python",
   "name": "python",
   "nbconvert_exporter": "python",
   "pygments_lexer": "ipython3",
   "version": "3.8.8"
  }
 },
 "nbformat": 4,
 "nbformat_minor": 5
}
