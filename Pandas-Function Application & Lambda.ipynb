{
 "cells": [
  {
   "cell_type": "code",
   "execution_count": 2,
   "id": "e923dd16",
   "metadata": {
    "scrolled": true
   },
   "outputs": [
    {
     "name": "stdout",
     "output_type": "stream",
     "text": [
      "      first    second    cthird\n",
      "0 -0.728608 -0.158107  0.171229\n",
      "1 -0.361791 -2.028574 -1.193851\n",
      "2 -1.197070  0.786251 -0.152846\n",
      "3  1.035492  1.404873 -0.122124\n",
      "4 -0.848639 -1.407299 -1.795608\n",
      "printing the results of pipe\n",
      "      first    second    cthird\n",
      "0  1.271392  1.841893  2.171229\n",
      "1  1.638209 -0.028574  0.806149\n",
      "2  0.802930  2.786251  1.847154\n",
      "3  3.035492  3.404873  1.877876\n",
      "4  1.151361  0.592701  0.204392\n"
     ]
    }
   ],
   "source": [
    "import pandas as pd\n",
    "import numpy as np\n",
    "\n",
    "def adder(ele1,ele2):\n",
    "    return ele1+ele2\n",
    "\n",
    "df = pd.DataFrame(np.random.randn(5,3),columns=['first','second','cthird'])\n",
    "print(df)\n",
    "print(\"printing the results of pipe\")\n",
    "print(df.pipe(adder,2))"
   ]
  },
  {
   "cell_type": "code",
   "execution_count": 3,
   "id": "f592d461",
   "metadata": {},
   "outputs": [
    {
     "name": "stdout",
     "output_type": "stream",
     "text": [
      "       col1      col2      col3\n",
      "0  0.045017  0.291698 -1.474544\n",
      "1  0.071710  0.382830 -0.074620\n",
      "2 -0.742563  0.664316 -1.507753\n",
      "3 -0.113005  1.008660 -0.624706\n",
      "4 -0.622702  1.867042  0.434621\n",
      "col1   -0.272308\n",
      "col2    0.842909\n",
      "col3   -0.649400\n",
      "dtype: float64\n"
     ]
    }
   ],
   "source": [
    "import pandas as pd\n",
    "import numpy as np\n",
    "\n",
    "def adder(ele1,ele2):\n",
    "   return ele1+ele2\n",
    "\n",
    "df = pd.DataFrame(np.random.randn(5,3),columns=['col1','col2','col3'])\n",
    "print(df)\n",
    "\n",
    "print (df.apply(np.mean))"
   ]
  },
  {
   "cell_type": "code",
   "execution_count": 4,
   "id": "4ca2311a",
   "metadata": {},
   "outputs": [
    {
     "name": "stdout",
     "output_type": "stream",
     "text": [
      "       col1      col2      col3\n",
      "0  1.145033  0.545156 -2.247187\n",
      "1  0.043571  0.652382  0.920793\n",
      "2  1.187252 -0.756271 -0.480488\n",
      "3 -0.891874 -0.261765 -0.554169\n",
      "4  1.251357  1.379434 -0.227435\n",
      "0   -0.185666\n",
      "1    0.538915\n",
      "2   -0.016502\n",
      "3   -0.569269\n",
      "4    0.801119\n",
      "dtype: float64\n"
     ]
    }
   ],
   "source": [
    "import pandas as pd\n",
    "import numpy as np\n",
    "\n",
    "df = pd.DataFrame(np.random.randn(5,3),columns=['col1','col2','col3'])\n",
    "print(df)\n",
    "\n",
    "print (df.apply(np.mean,axis=1))"
   ]
  },
  {
   "cell_type": "code",
   "execution_count": 5,
   "id": "0dbc6704",
   "metadata": {},
   "outputs": [
    {
     "name": "stdout",
     "output_type": "stream",
     "text": [
      "       col1      col2      col3\n",
      "0 -0.521502  0.394893 -1.549492\n",
      "1  1.428393  0.546189  1.221164\n",
      "2 -0.648495  0.414480  0.064633\n",
      "3 -1.548629  0.861123 -0.759458\n",
      "4 -0.139164 -0.065410  0.838059\n",
      "0    -52.150214\n",
      "1    142.839325\n",
      "2    -64.849549\n",
      "3   -154.862900\n",
      "4    -13.916351\n",
      "Name: col1, dtype: float64\n"
     ]
    }
   ],
   "source": [
    "import pandas as pd\n",
    "import numpy as np\n",
    "df = pd.DataFrame(np.random.randn(5,3),columns=['col1','col2','col3'])\n",
    "print(df)\n",
    "\n",
    "print(df['col1'].map(lambda x:x*100))\n"
   ]
  },
  {
   "cell_type": "code",
   "execution_count": 6,
   "id": "50c482f4",
   "metadata": {},
   "outputs": [
    {
     "name": "stdout",
     "output_type": "stream",
     "text": [
      "   id  name  age  income\n",
      "0   1   abc   11    9999\n",
      "1   2  defg   22    8888\n",
      "2   3   ghs   33    7777\n",
      "3   4  eeee   44    6666\n",
      "4   5  wwww   55    5555\n"
     ]
    }
   ],
   "source": [
    "df=pd.DataFrame({'id':[1,2,3,4,5],'name':['abc','defg','ghs','eeee','wwww'],'age':[11,22,33,44,55], 'income':[9999,8888,7777,6666,5555]})\n",
    "print(df)"
   ]
  },
  {
   "cell_type": "code",
   "execution_count": 7,
   "id": "78509ff2",
   "metadata": {},
   "outputs": [
    {
     "name": "stdout",
     "output_type": "stream",
     "text": [
      "   id  name  age  income\n",
      "0   1   abc   14    9999\n",
      "1   2  defg   25    8888\n",
      "2   3   ghs   36    7777\n",
      "3   4  eeee   47    6666\n",
      "4   5  wwww   58    5555\n"
     ]
    }
   ],
   "source": [
    "df['age']=df.apply(lambda x: x['age']+3, axis=1)\n",
    "print(df)"
   ]
  },
  {
   "cell_type": "code",
   "execution_count": 8,
   "id": "31ec2e81",
   "metadata": {},
   "outputs": [
    {
     "data": {
      "text/plain": [
       "[25, 36, 47, 58]"
      ]
     },
     "execution_count": 8,
     "metadata": {},
     "output_type": "execute_result"
    }
   ],
   "source": [
    "list(filter(lambda x:x>18, df['age']))"
   ]
  },
  {
   "cell_type": "code",
   "execution_count": 9,
   "id": "0129ea5a",
   "metadata": {},
   "outputs": [
    {
     "name": "stdout",
     "output_type": "stream",
     "text": [
      "   id  name  age  income\n",
      "0   1   abc   14   11998\n",
      "1   2  defg   25   10665\n",
      "2   3   ghs   36    9332\n",
      "3   4  eeee   47    7999\n",
      "4   5  wwww   58    6666\n"
     ]
    }
   ],
   "source": [
    "df['income']=list(map(lambda x: int(x+x*0.2), df['income']))\n",
    "print(df)"
   ]
  },
  {
   "cell_type": "code",
   "execution_count": 10,
   "id": "06a1515d",
   "metadata": {},
   "outputs": [
    {
     "data": {
      "text/plain": [
       "46660"
      ]
     },
     "execution_count": 10,
     "metadata": {},
     "output_type": "execute_result"
    }
   ],
   "source": [
    "import functools\n",
    "\n",
    "functools.reduce(lambda a,b: a+b, df['income'])"
   ]
  },
  {
   "cell_type": "code",
   "execution_count": 11,
   "id": "be799491",
   "metadata": {},
   "outputs": [],
   "source": [
    "df['category']=df['age'].apply(lambda x: 'Adult' if x>=18 else 'Child')"
   ]
  },
  {
   "cell_type": "code",
   "execution_count": 12,
   "id": "43f1dac5",
   "metadata": {},
   "outputs": [
    {
     "name": "stdout",
     "output_type": "stream",
     "text": [
      "   id  name  age  income category\n",
      "0   1   abc   14   11998    Child\n",
      "1   2  defg   25   10665    Adult\n",
      "2   3   ghs   36    9332    Adult\n",
      "3   4  eeee   47    7999    Adult\n",
      "4   5  wwww   58    6666    Adult\n"
     ]
    }
   ],
   "source": [
    "print(df)"
   ]
  },
  {
   "cell_type": "code",
   "execution_count": null,
   "id": "d966841e",
   "metadata": {},
   "outputs": [],
   "source": []
  }
 ],
 "metadata": {
  "kernelspec": {
   "display_name": "Python 3",
   "language": "python",
   "name": "python3"
  },
  "language_info": {
   "codemirror_mode": {
    "name": "ipython",
    "version": 3
   },
   "file_extension": ".py",
   "mimetype": "text/x-python",
   "name": "python",
   "nbconvert_exporter": "python",
   "pygments_lexer": "ipython3",
   "version": "3.8.8"
  }
 },
 "nbformat": 4,
 "nbformat_minor": 5
}
