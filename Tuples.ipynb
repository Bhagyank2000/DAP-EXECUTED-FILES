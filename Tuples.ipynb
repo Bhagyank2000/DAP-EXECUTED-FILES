{
 "cells": [
  {
   "cell_type": "code",
   "execution_count": 2,
   "id": "424b5b94",
   "metadata": {},
   "outputs": [
    {
     "name": "stdout",
     "output_type": "stream",
     "text": [
      "('good', 'it', 'cse')\n",
      "(1, 23, 4, 5, 5, 6, 8)\n",
      "('abc', 'def')\n"
     ]
    }
   ],
   "source": [
    "tup= ('good','it','cse')\n",
    "print(tup)\n",
    "tup1=(1,23,4,5,5,6,8)\n",
    "print(tup1)\n",
    "tup2=\"abc\",\"def\"\n",
    "print(tup2)"
   ]
  },
  {
   "cell_type": "code",
   "execution_count": 5,
   "id": "debde1a5",
   "metadata": {},
   "outputs": [
    {
     "name": "stdout",
     "output_type": "stream",
     "text": [
      "()\n"
     ]
    }
   ],
   "source": [
    "tup1 = ()\n",
    "print(tup1)"
   ]
  },
  {
   "cell_type": "code",
   "execution_count": 3,
   "id": "74286d0d",
   "metadata": {},
   "outputs": [
    {
     "name": "stdout",
     "output_type": "stream",
     "text": [
      "28\n"
     ]
    }
   ],
   "source": [
    "tup1 = (28)\n",
    "print(tup1)"
   ]
  },
  {
   "cell_type": "code",
   "execution_count": 4,
   "id": "a79a5606",
   "metadata": {},
   "outputs": [
    {
     "name": "stdout",
     "output_type": "stream",
     "text": [
      "cse\n",
      "mech\n",
      "('mech', 'electrical')\n"
     ]
    }
   ],
   "source": [
    "tup= ('cse','it','mech','electrical')\n",
    "print(tup[0])\n",
    "print(tup[2])\n",
    "print(tup[2:5])"
   ]
  },
  {
   "cell_type": "code",
   "execution_count": 10,
   "id": "21292bd1",
   "metadata": {},
   "outputs": [
    {
     "name": "stdout",
     "output_type": "stream",
     "text": [
      "('cse', 'it', 'mech', 'ece', 'electrical')\n"
     ]
    },
    {
     "ename": "NameError",
     "evalue": "name 'tup1' is not defined",
     "output_type": "error",
     "traceback": [
      "\u001b[1;31m---------------------------------------------------------------------------\u001b[0m",
      "\u001b[1;31mNameError\u001b[0m                                 Traceback (most recent call last)",
      "\u001b[1;32m<ipython-input-10-f0e3be02146e>\u001b[0m in \u001b[0;36m<module>\u001b[1;34m\u001b[0m\n\u001b[0;32m      3\u001b[0m \u001b[1;33m\u001b[0m\u001b[0m\n\u001b[0;32m      4\u001b[0m \u001b[1;32mdel\u001b[0m\u001b[1;33m(\u001b[0m\u001b[0mtup1\u001b[0m\u001b[1;33m)\u001b[0m\u001b[1;33m\u001b[0m\u001b[1;33m\u001b[0m\u001b[0m\n\u001b[1;32m----> 5\u001b[1;33m \u001b[0mprint\u001b[0m\u001b[1;33m(\u001b[0m\u001b[0mtup1\u001b[0m\u001b[1;33m)\u001b[0m\u001b[1;33m\u001b[0m\u001b[1;33m\u001b[0m\u001b[0m\n\u001b[0m",
      "\u001b[1;31mNameError\u001b[0m: name 'tup1' is not defined"
     ]
    }
   ],
   "source": [
    "tup1= ('cse','it','mech','ece','electrical')\n",
    "print(tup1)\n",
    "\n",
    "del(tup1)\n",
    "print(tup1)"
   ]
  },
  {
   "cell_type": "code",
   "execution_count": 6,
   "id": "10d1afee",
   "metadata": {},
   "outputs": [
    {
     "name": "stdout",
     "output_type": "stream",
     "text": [
      "('cse', 'it', 'mech', 'ece', 'electrical')\n",
      "('sha', 'hi', 'roy')\n",
      "('cse', 'it', 'mech', 'ece', 'electrical', 'sha', 'hi', 'roy')\n"
     ]
    }
   ],
   "source": [
    "tup1= ('cse','it','mech','ece','electrical')\n",
    "print(tup1)\n",
    "tup2= ('sha','hi','roy')\n",
    "print(tup2)\n",
    "\n",
    "\n",
    "tup3=tup1+tup2\n",
    "print(tup3)"
   ]
  },
  {
   "cell_type": "code",
   "execution_count": 8,
   "id": "bb18bcef",
   "metadata": {},
   "outputs": [
    {
     "name": "stdout",
     "output_type": "stream",
     "text": [
      "('cse', 'it', 'mech', 'ece', 'electrical')\n",
      "value at 3rd loc=  ece\n"
     ]
    },
    {
     "ename": "TypeError",
     "evalue": "'tuple' object does not support item assignment",
     "output_type": "error",
     "traceback": [
      "\u001b[1;31m---------------------------------------------------------------------------\u001b[0m",
      "\u001b[1;31mTypeError\u001b[0m                                 Traceback (most recent call last)",
      "\u001b[1;32m<ipython-input-8-f87a01803393>\u001b[0m in \u001b[0;36m<module>\u001b[1;34m\u001b[0m\n\u001b[0;32m      4\u001b[0m \u001b[0mprint\u001b[0m\u001b[1;33m(\u001b[0m\u001b[1;34m\"value at 3rd loc= \"\u001b[0m\u001b[1;33m,\u001b[0m\u001b[0mtup1\u001b[0m\u001b[1;33m[\u001b[0m\u001b[1;36m3\u001b[0m\u001b[1;33m]\u001b[0m\u001b[1;33m)\u001b[0m\u001b[1;33m\u001b[0m\u001b[1;33m\u001b[0m\u001b[0m\n\u001b[0;32m      5\u001b[0m \u001b[1;33m\u001b[0m\u001b[0m\n\u001b[1;32m----> 6\u001b[1;33m \u001b[0mtup1\u001b[0m\u001b[1;33m[\u001b[0m\u001b[1;36m3\u001b[0m\u001b[1;33m]\u001b[0m\u001b[1;33m=\u001b[0m\u001b[1;34m\"def\"\u001b[0m \u001b[1;31m#not allowed\u001b[0m\u001b[1;33m\u001b[0m\u001b[1;33m\u001b[0m\u001b[0m\n\u001b[0m\u001b[0;32m      7\u001b[0m \u001b[0mprint\u001b[0m\u001b[1;33m(\u001b[0m\u001b[1;34m\"UPDATED value at 3rd loc= \"\u001b[0m\u001b[1;33m,\u001b[0m\u001b[0mtup1\u001b[0m\u001b[1;33m[\u001b[0m\u001b[1;36m3\u001b[0m\u001b[1;33m]\u001b[0m\u001b[1;33m)\u001b[0m\u001b[1;33m\u001b[0m\u001b[1;33m\u001b[0m\u001b[0m\n",
      "\u001b[1;31mTypeError\u001b[0m: 'tuple' object does not support item assignment"
     ]
    }
   ],
   "source": [
    "tup1= ('cse','it','mech','ece','electrical')\n",
    "print(tup1)\n",
    "\n",
    "print(\"value at 3rd loc= \",tup1[3])\n",
    "\n",
    "tup1[3]=\"def\" #not allowed\n",
    "print(\"UPDATED value at 3rd loc= \",tup1[3])"
   ]
  },
  {
   "cell_type": "code",
   "execution_count": 9,
   "id": "90cb299f",
   "metadata": {},
   "outputs": [
    {
     "name": "stdout",
     "output_type": "stream",
     "text": [
      "('cse', 'it', 'mech', 'ece', 'electrical')\n",
      "('hi', 'bye', 'roy')\n",
      "5\n",
      "3\n",
      "5\n"
     ]
    }
   ],
   "source": [
    "tup1= ('cse','it','mech','ece','electrical')\n",
    "print(tup1)\n",
    "tup2= ('hi','bye','roy')\n",
    "print(tup2)\n",
    "a=len(tup1)\n",
    "b=len(tup2)\n",
    "print(a)\n",
    "print(b)\n",
    "\n",
    "print(len(tup1))\n"
   ]
  },
  {
   "cell_type": "code",
   "execution_count": 10,
   "id": "fd3c1496",
   "metadata": {},
   "outputs": [
    {
     "name": "stdout",
     "output_type": "stream",
     "text": [
      "('cse', 'it', 'mech', 'ece', 'electrical')\n",
      "('hi', 'bye', 'roy')\n",
      "mech\n"
     ]
    }
   ],
   "source": [
    "tup1= ('cse','it','mech','ece','electrical')\n",
    "print(tup1)\n",
    "tup2= ('hi','bye','roy')\n",
    "print(tup2)\n",
    "\n",
    "\n",
    "print(max(tup1))"
   ]
  },
  {
   "cell_type": "code",
   "execution_count": null,
   "id": "80ef4447",
   "metadata": {},
   "outputs": [],
   "source": []
  }
 ],
 "metadata": {
  "kernelspec": {
   "display_name": "Python 3",
   "language": "python",
   "name": "python3"
  },
  "language_info": {
   "codemirror_mode": {
    "name": "ipython",
    "version": 3
   },
   "file_extension": ".py",
   "mimetype": "text/x-python",
   "name": "python",
   "nbconvert_exporter": "python",
   "pygments_lexer": "ipython3",
   "version": "3.8.8"
  }
 },
 "nbformat": 4,
 "nbformat_minor": 5
}
