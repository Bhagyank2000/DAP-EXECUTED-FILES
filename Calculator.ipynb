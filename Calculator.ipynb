{
 "cells": [
  {
   "cell_type": "code",
   "execution_count": 1,
   "metadata": {},
   "outputs": [
    {
     "name": "stdout",
     "output_type": "stream",
     "text": [
      "Choices.\n",
      "1.Addition\n",
      "2.Subt\n",
      "3.Multiply\n",
      "4.Divide\n",
      "Choose(1,2,3,4): 3\n",
      "Enter a number: 3\n",
      "Enter 2nd number: 3\n",
      "3 * 3 = 9\n"
     ]
    }
   ],
   "source": [
    "def add(x, y): \n",
    "   return x + y\n",
    "def subtract(x, y): \n",
    "   return x - y\n",
    "def multiply(x, y): \n",
    "   return x * y\n",
    "def divide(x, y): \n",
    "   return x / y\n",
    "\n",
    "\n",
    "# menu \n",
    "print(\"Choices.\")\n",
    "print(\"1.Addition\")\n",
    "print(\"2.Subt\")\n",
    "print(\"3.Multiply\")\n",
    "print(\"4.Divide\")\n",
    "choice = input(\"Choose(1,2,3,4): \") \n",
    "num1 = int(input(\"Enter a number: \"))\n",
    "num2 = int(input(\"Enter 2nd number: \"))\n",
    "if choice == '1':\n",
    "   print(num1,\"+\",num2,\"=\", add(num1,num2))\n",
    "elif choice == '2':\n",
    "   print(num1,\"-\",num2,\"=\", subtract(num1,num2))\n",
    "elif choice == '3':\n",
    "   print(num1,\"*\",num2,\"=\", multiply(num1,num2))\n",
    "elif choice == '4':\n",
    "   print(num1,\"/\",num2,\"=\", divide(num1,num2))"
   ]
  },
  {
   "cell_type": "code",
   "execution_count": null,
   "metadata": {},
   "outputs": [],
   "source": []
  }
 ],
 "metadata": {
  "kernelspec": {
   "display_name": "Python 3",
   "language": "python",
   "name": "python3"
  },
  "language_info": {
   "codemirror_mode": {
    "name": "ipython",
    "version": 3
   },
   "file_extension": ".py",
   "mimetype": "text/x-python",
   "name": "python",
   "nbconvert_exporter": "python",
   "pygments_lexer": "ipython3",
   "version": "3.8.8"
  }
 },
 "nbformat": 4,
 "nbformat_minor": 2
}
